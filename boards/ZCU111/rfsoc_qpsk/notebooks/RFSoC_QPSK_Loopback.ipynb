{
 "cells": [
  {
   "cell_type": "markdown",
   "metadata": {},
   "source": [
    "# RFSoC QPSK Transceiver\n",
    "\n",
    "> 本设计是一个QPSK收发器，用于发射和接收随机产生的脉冲形状符号，具有全载波和定时同步功能。Pynq用于可视化rfsoc数据转换器的DAC和ADC侧数据，以及可视化整个发送和接收信号路径中的各信号处理阶段。.\n",
    "\n",
    " \n",
    "## Contents    \n",
    "\n",
    "* [RFSoC QPSK Transceiver](#RFSoC-QPSK-Transceiver)\n",
    "    * [Import libraries](#Import-libraries)\n",
    "    * [Download the QPSK bitstream](#Download-the-QPSK-bitstream)\n",
    "    * [Inspecting the transmit path](#Inspecting-the-transmit-path)\n",
    "    * [Inspecting the receive path](#Inspecting-the-receive-path)\n",
    "    * [Reconfigure the RF Data Converters](#Reconfigure-the-RF-Data-Converters)"
   ]
  },
  {
   "cell_type": "markdown",
   "metadata": {},
   "source": [
    "## Import libraries\n",
    "\n",
    "Start by including the `xrfdc` drivers so we can configure the RF data converters, `ipywidgets` to make interactive controls, and `rfsoc_qpsk` for the QPSK design."
   ]
  },
  {
   "cell_type": "code",
   "execution_count": null,
   "metadata": {},
   "outputs": [],
   "source": [
    "import xrfdc\n",
    "import ipywidgets as ipw\n",
    "\n",
    "from rfsoc_qpsk import qpsk_overlay, sdr_plots, dma_timer, dict_widget"
   ]
  },
  {
   "cell_type": "markdown",
   "metadata": {},
   "source": [
    "## Download the QPSK bitstream"
   ]
  },
  {
   "cell_type": "code",
   "execution_count": null,
   "metadata": {},
   "outputs": [],
   "source": [
    "ol = qpsk_overlay.QpskOverlay()"
   ]
  },
  {
   "cell_type": "markdown",
   "metadata": {},
   "source": [
    "## Inspecting the transmit path\n",
    "\n",
    "There are 3 main steps in the QPSK transmit IP signal path:\n",
    "\n",
    "1. Random symbol generation\n",
    "2. Pulse shaping\n",
    "3. Interpolation\n",
    "  \n",
    "This design \"taps off\" this path after the first two stages so we can inspect the signals in Jupyter Lab.\n",
    "The RF data converter can be reconfigured from Python too - we'll look at that [later](#Reconfigure-the-RF-Data-Converters).\n",
    "\n",
    "<img src=\"./img/QPSK_system_block_diagrams_Tx_only.svg\" width=\"700\"/>\n",
    "\n",
    "First we plot our raw QPSK symbols in the time domain."
   ]
  },
  {
   "cell_type": "code",
   "execution_count": null,
   "metadata": {},
   "outputs": [],
   "source": [
    "plot = sdr_plots.IQTimePlot(\n",
    "    ol.qpsk_tx.get_many_symbols(N=5),\n",
    "    500,\n",
    "    resampling_fun=sdr_plots.resample_pick\n",
    ")\n",
    "plot.get_widget()"
   ]
  },
  {
   "cell_type": "markdown",
   "metadata": {},
   "source": [
    "We can stream new samples into this plot, either using a rolling buffer or keeping all samples. (See `help(plot.add_data)`)"
   ]
  },
  {
   "cell_type": "code",
   "execution_count": null,
   "metadata": {},
   "outputs": [],
   "source": [
    "streamer = dma_timer.DmaTimer(plot.add_data, ol.qpsk_tx.get_symbols, 0.05)\n",
    "ipw.HBox(streamer.get_widget())"
   ]
  },
  {
   "cell_type": "markdown",
   "metadata": {},
   "source": [
    "For the pulse shaped signal, look at the frequency domain too. The FFT is accelerated in the PL."
   ]
  },
  {
   "cell_type": "code",
   "execution_count": null,
   "metadata": {},
   "outputs": [],
   "source": [
    "fs=4000\n",
    "\n",
    "iq_plot = sdr_plots.IQTimePlot(ol.qpsk_tx.get_many_shaped_time(N=10), fs, w=800)\n",
    "iq_dt = dma_timer.DmaTimer(iq_plot.add_data, ol.qpsk_tx.get_shaped_time, 0.05)\n",
    "\n",
    "fa_plot = sdr_plots.HWFreqPlot(ol.qpsk_tx.get_shaped_fft(), fs, avg_n=4, w=800)\n",
    "fa_dt = dma_timer.DmaTimer(fa_plot.add_frame, ol.qpsk_tx.get_shaped_fft, 0.3)\n",
    "\n",
    "tab1 = ipw.Tab([ipw.VBox([fa_plot.get_widget(), ipw.HBox(fa_dt.get_widget())]),\n",
    "                ipw.VBox([iq_plot.get_widget(), ipw.HBox(iq_dt.get_widget())])\n",
    "               ])\n",
    "tab1.set_title(0, 'Frequency domain')\n",
    "tab1.set_title(1, 'Time domain')\n",
    "tab1"
   ]
  },
  {
   "cell_type": "markdown",
   "metadata": {},
   "source": [
    "## Inspecting the receive path\n",
    "\n",
    "The receive side is nearly the inverse of the transmit path (there's just some extra work for properly synchronising).\n",
    "\n",
    "Again, there are taps off from a few places in the signal path:\n",
    "\n",
    "1. After decimation\n",
    "2. After root-raised-cosine filtering\n",
    "3. After coarse synchronisation\n",
    "4. and the data output\n",
    "\n",
    "<img src=\"./img/QPSK_system_block_diagrams_Rx_only.svg\" width=\"700\"/>\n",
    "\n",
    "Because there are a few different intermediate stages, let's reuse the same cells to plot any of them on-demand.\n",
    "\n",
    "Define some properties of each tap."
   ]
  },
  {
   "cell_type": "code",
   "execution_count": null,
   "metadata": {},
   "outputs": [],
   "source": [
    "taps = {\n",
    "    'Decimated': \n",
    "      {'get': ol.qpsk_rx.get_decimated,     'get_many': ol.qpsk_rx.get_many_decimated,     'fs':1024},\n",
    "    'RRCed': \n",
    "      {'get': ol.qpsk_rx.get_rrced,         'get_many': ol.qpsk_rx.get_many_rrced,         'fs':16384},\n",
    "    'CoarseSynced': \n",
    "      {'get': ol.qpsk_rx.get_coarse_synced, 'get_many': ol.qpsk_rx.get_many_coarse_synced, 'fs':4096}\n",
    "}"
   ]
  },
  {
   "cell_type": "markdown",
   "metadata": {},
   "source": [
    "Select one of the taps ('Decimated', 'RRCed', or 'CoarseSynced')"
   ]
  },
  {
   "cell_type": "code",
   "execution_count": null,
   "metadata": {},
   "outputs": [],
   "source": [
    "tap = 'RRCed'"
   ]
  },
  {
   "cell_type": "code",
   "execution_count": null,
   "metadata": {},
   "outputs": [],
   "source": [
    "f=taps[tap]['get']\n",
    "fm=taps[tap]['get_many']\n",
    "fs=taps[tap]['fs']\n",
    "\n",
    "f_plot = sdr_plots.IQFreqPlot(fm(), fs)\n",
    "f_dt = dma_timer.DmaTimer(f_plot.add_frame, fm, 0.3)\n",
    "\n",
    "iq_plot = sdr_plots.IQTimePlot(fm(), fs, w=800)\n",
    "iq_dt = dma_timer.DmaTimer(iq_plot.add_data, f, 0.05)\n",
    "\n",
    "c_plot = sdr_plots.IQConstellationPlot(fm(), plotrange=(0, len(fm())-1), fade=True)\n",
    "c_dt = dma_timer.DmaTimer(c_plot.add_data, f, 0.05)\n",
    "\n",
    "tab1 = ipw.Tab([ipw.VBox([iq_plot.get_widget(), ipw.HBox(iq_dt.get_widget())]),\n",
    "                ipw.VBox([f_plot.get_widget(), ipw.HBox(f_dt.get_widget())]),\n",
    "                ipw.VBox([c_plot.get_widget(), ipw.HBox(c_dt.get_widget())]),])\n",
    "tab1.set_title(0, 'Time domain')\n",
    "tab1.set_title(1, 'Frequency domain')\n",
    "tab1.set_title(2, 'Constellation')\n",
    "tab1"
   ]
  },
  {
   "cell_type": "markdown",
   "metadata": {},
   "source": [
    "And for the final plot, let's look at the synchronised output data. Note that Jupyter Lab can manage multiple windows. Next we're going to play with the RF settings, so you may want to make a new window for this plot by right clicking the plot and selecting `Create New View for Output`."
   ]
  },
  {
   "cell_type": "code",
   "execution_count": null,
   "metadata": {},
   "outputs": [],
   "source": [
    "d=ol.qpsk_rx.get_many_data()\n",
    "fs=500\n",
    "\n",
    "iq_plot = sdr_plots.IQTimePlot(d, fs, w=800)\n",
    "iq_dg = dma_timer.DmaTimer(iq_plot.add_data, ol.qpsk_rx.get_data, 0.05)\n",
    "\n",
    "c_plot = sdr_plots.IQConstellationPlot(d, plotrange=(0, len(d)-1), fade=True)\n",
    "c_dg = dma_timer.DmaTimer(c_plot.add_data, ol.qpsk_rx.get_data, 0.05)\n",
    "\n",
    "tab1 = ipw.Tab([ipw.VBox([c_plot.get_widget(), ipw.HBox(c_dg.get_widget())]),\n",
    "                ipw.VBox([iq_plot.get_widget(), ipw.HBox(iq_dg.get_widget())])])\n",
    "tab1.set_title(0, 'Constellation')\n",
    "tab1.set_title(1, 'Time domain')\n",
    "tab1"
   ]
  },
  {
   "cell_type": "markdown",
   "metadata": {},
   "source": [
    "### Reconfigure the RF Data Converters\n",
    "\n",
    "So far the RF settings have been controlled by `QpskOverlay` but we can reconfigure these on the fly in python with the `xrfdc` driver.\n",
    "\n",
    "First of all, consider the DAC block used for the transmit side.\n",
    "\n",
    "<img src=\"./img/RF_DAC.svg\" width=\"700\"/>\n",
    "\n",
    "There's a lot of scope for reconfiguration here - see the [IP product guide](https://www.xilinx.com/support/documentation/ip_documentation/usp_rf_data_converter/v2_1/pg269-rf-data-converter.pdf) and `help(ol.dac_block)` for details.\n",
    "\n",
    "As an example, let's play with the mixer settings. Try changing the mixer frequency below."
   ]
  },
  {
   "cell_type": "code",
   "execution_count": null,
   "metadata": {},
   "outputs": [],
   "source": [
    "ol.dac_block.MixerSettings = {\n",
    "    'CoarseMixFreq':  xrfdc.COARSE_MIX_BYPASS,\n",
    "    'EventSource':    xrfdc.EVNT_SRC_IMMEDIATE,\n",
    "    'FineMixerScale': xrfdc.MIXER_SCALE_1P0,\n",
    "    'Freq':           84.0, ################### Change me!\n",
    "    'MixerMode':      xrfdc.MIXER_MODE_C2R,\n",
    "    'MixerType':      xrfdc.MIXER_TYPE_FINE,\n",
    "    'PhaseOffset':    0.0\n",
    "}"
   ]
  },
  {
   "cell_type": "markdown",
   "metadata": {},
   "source": [
    "The output signal should disappear until the receive side is configured to match the new carrier frequency. Set the new carrier frequency for the ADC (receive) side below."
   ]
  },
  {
   "cell_type": "code",
   "execution_count": null,
   "metadata": {},
   "outputs": [],
   "source": [
    "ol.adc_block.MixerSettings = {\n",
    "    'CoarseMixFreq':  xrfdc.COARSE_MIX_BYPASS,\n",
    "    'EventSource':    xrfdc.EVNT_SRC_TILE,\n",
    "    'FineMixerScale': xrfdc.MIXER_SCALE_1P0,\n",
    "    'Freq':           84.0, ################### Change me!\n",
    "    'MixerMode':      xrfdc.MIXER_MODE_R2C,\n",
    "    'MixerType':      xrfdc.MIXER_TYPE_FINE,\n",
    "    'PhaseOffset':    0.0\n",
    "}\n",
    "ol.adc_block.UpdateEvent(xrfdc.EVENT_MIXER)"
   ]
  },
  {
   "cell_type": "markdown",
   "metadata": {},
   "source": [
    "Going one step further, `ipywidgets` can be used to make interactive controls for some of these settings.\n",
    "\n",
    "Define some settings using JSON first."
   ]
  },
  {
   "cell_type": "code",
   "execution_count": null,
   "metadata": {},
   "outputs": [],
   "source": [
    "import json\n",
    "\n",
    "schema_json = \"\"\"\n",
    "{\n",
    "  \"title\": \"TX Settings\",\n",
    "  \"type\": \"object\",\n",
    "  \"properties\": {\n",
    "    \"Freq\": {\n",
    "      \"description\": \"NCO Frequency (MHz)\",\n",
    "      \"type\": \"number\",\n",
    "      \"minimum\": 0.0,\n",
    "      \"maximum\": 100.0,\n",
    "      \"default\": 84.0\n",
    "    },\n",
    "    \"Gain\": {\n",
    "      \"description\": \"Relative Gain\",\n",
    "      \"type\": \"number\",\n",
    "      \"minimum\": 0.0,\n",
    "      \"maximum\": 1.0,\n",
    "      \"default\": 1\n",
    "    }\n",
    "  }\n",
    "}\n",
    "\"\"\""
   ]
  },
  {
   "cell_type": "markdown",
   "metadata": {},
   "source": [
    "Now define a function that will take a dictionary of these settings and apply them to our system. We must ensure that only one instance of this is run at a given time (using Python's `Lock()`) to prevent Bad Things."
   ]
  },
  {
   "cell_type": "code",
   "execution_count": null,
   "metadata": {},
   "outputs": [],
   "source": [
    "from threading import Thread, Lock\n",
    "\n",
    "tx_mutex = Lock()\n",
    "\n",
    "def update_tx_settings(config):\n",
    "    # Acquire lock for mutual exclusion on RF driver\n",
    "    if tx_mutex.acquire(blocking=False):\n",
    "        if 'Gain' in config:\n",
    "            ol.qpsk_tx.axi_qpsk_tx.output_gain = int(config['Gain']*(2**32-1))\n",
    "        if 'Freq' in config:\n",
    "            mixer_cfg = ol.dac_block.MixerSettings\n",
    "            mixer_cfg['Freq'] = config['Freq']\n",
    "            ol.dac_block.MixerSettings = mixer_cfg\n",
    "        tx_mutex.release()"
   ]
  },
  {
   "cell_type": "markdown",
   "metadata": {},
   "source": [
    "Generate the ipywidgets and enjoy."
   ]
  },
  {
   "cell_type": "code",
   "execution_count": null,
   "metadata": {},
   "outputs": [],
   "source": [
    "cfg = dict_widget.DictWidget(json.loads(schema_json))\n",
    "gui = cfg.interact(callback=update_tx_settings)\n",
    "display(gui)"
   ]
  }
 ],
 "metadata": {
  "kernelspec": {
   "display_name": "Python 3",
   "language": "python",
   "name": "python3"
  },
  "language_info": {
   "codemirror_mode": {
    "name": "ipython",
    "version": 3
   },
   "file_extension": ".py",
   "mimetype": "text/x-python",
   "name": "python",
   "nbconvert_exporter": "python",
   "pygments_lexer": "ipython3",
   "version": "3.6.5"
  }
 },
 "nbformat": 4,
 "nbformat_minor": 2
}
